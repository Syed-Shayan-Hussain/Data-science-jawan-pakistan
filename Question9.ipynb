{
 "cells": [
  {
   "cell_type": "code",
   "execution_count": 1,
   "id": "c3915303",
   "metadata": {},
   "outputs": [
    {
     "name": "stdout",
     "output_type": "stream",
     "text": [
      "41\n",
      "for verification(Using built-in function)\n",
      "41\n"
     ]
    }
   ],
   "source": [
    "#9. Write a program which print the length of the list?\n",
    "l=[1,2,3,4,5,6,7,8,9,4,5,6,1,2,3,5,4,4,5,5,8,8,8,89,5,5,54,4,4,23,5,5,5,5,5,5,5,5,5,55,5]\n",
    "b=0\n",
    "for i in l:\n",
    "    b+=1\n",
    "print(b)\n",
    "print(\"for verification(Using built-in function)\")\n",
    "a=len(l)\n",
    "print(a)"
   ]
  },
  {
   "cell_type": "code",
   "execution_count": null,
   "id": "ca99b802",
   "metadata": {},
   "outputs": [],
   "source": []
  }
 ],
 "metadata": {
  "kernelspec": {
   "display_name": "Python 3",
   "language": "python",
   "name": "python3"
  },
  "language_info": {
   "codemirror_mode": {
    "name": "ipython",
    "version": 3
   },
   "file_extension": ".py",
   "mimetype": "text/x-python",
   "name": "python",
   "nbconvert_exporter": "python",
   "pygments_lexer": "ipython3",
   "version": "3.6.13"
  }
 },
 "nbformat": 4,
 "nbformat_minor": 5
}
