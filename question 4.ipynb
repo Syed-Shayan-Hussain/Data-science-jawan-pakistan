{
 "cells": [
  {
   "cell_type": "code",
   "execution_count": 1,
   "id": "2e2c204f",
   "metadata": {},
   "outputs": [
    {
     "name": "stdout",
     "output_type": "stream",
     "text": [
      "Enter radius of circle: 10\n",
      "The Area of circle is:  314.2\n"
     ]
    }
   ],
   "source": [
    "#4. Write a Python program which accepts the radius of a circle from the user and compute the area.\n",
    "r=int(input(\"Enter radius of circle: \"))\n",
    "p=3.142\n",
    "a=p*(r**2)\n",
    "print(\"The Area of circle is: \",a)"
   ]
  },
  {
   "cell_type": "code",
   "execution_count": null,
   "id": "e4001d8d",
   "metadata": {},
   "outputs": [],
   "source": []
  }
 ],
 "metadata": {
  "kernelspec": {
   "display_name": "Python 3",
   "language": "python",
   "name": "python3"
  },
  "language_info": {
   "codemirror_mode": {
    "name": "ipython",
    "version": 3
   },
   "file_extension": ".py",
   "mimetype": "text/x-python",
   "name": "python",
   "nbconvert_exporter": "python",
   "pygments_lexer": "ipython3",
   "version": "3.6.13"
  }
 },
 "nbformat": 4,
 "nbformat_minor": 5
}
