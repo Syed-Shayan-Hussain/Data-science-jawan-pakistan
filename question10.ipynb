{
 "cells": [
  {
   "cell_type": "code",
   "execution_count": null,
   "id": "77bfd2fa",
   "metadata": {},
   "outputs": [],
   "source": [
    "#10.Write a Python program to sum all the numeric items in a list?\n",
    "l=[1,5,7,6,23,54,6,56,45,87,13]\n",
    "a=0\n",
    "for i in l:\n",
    "    a=a+i\n",
    "print(a)"
   ]
  }
 ],
 "metadata": {
  "kernelspec": {
   "display_name": "Python 3",
   "language": "python",
   "name": "python3"
  },
  "language_info": {
   "codemirror_mode": {
    "name": "ipython",
    "version": 3
   },
   "file_extension": ".py",
   "mimetype": "text/x-python",
   "name": "python",
   "nbconvert_exporter": "python",
   "pygments_lexer": "ipython3",
   "version": "3.6.13"
  }
 },
 "nbformat": 4,
 "nbformat_minor": 5
}
