{
 "cells": [
  {
   "cell_type": "code",
   "execution_count": null,
   "id": "98e93186",
   "metadata": {},
   "outputs": [],
   "source": [
    "#Q5Write a Python program which accepts the user's first and last name and print them in reverse order with a space between them.\n",
    "a=input(\"enter your first name: \")\n",
    "b=input(\"Enter last name: \")\n",
    "print(b,a,end=\"\\t\")"
   ]
  }
 ],
 "metadata": {
  "kernelspec": {
   "display_name": "Python 3",
   "language": "python",
   "name": "python3"
  },
  "language_info": {
   "codemirror_mode": {
    "name": "ipython",
    "version": 3
   },
   "file_extension": ".py",
   "mimetype": "text/x-python",
   "name": "python",
   "nbconvert_exporter": "python",
   "pygments_lexer": "ipython3",
   "version": "3.6.13"
  }
 },
 "nbformat": 4,
 "nbformat_minor": 5
}
