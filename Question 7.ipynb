{
 "cells": [
  {
   "cell_type": "code",
   "execution_count": 1,
   "id": "1140fafc",
   "metadata": {},
   "outputs": [
    {
     "name": "stdout",
     "output_type": "stream",
     "text": [
      "Enter marks of subject 1: 60\n",
      "Enter marks of subject 2: 20\n",
      "Enter marks of subject 3: 30\n",
      "Enter marks of subject 4: 10\n",
      "Enter marks of subject 5: 20\n",
      "Your Grade is F with  28.000000000000004 %\n"
     ]
    }
   ],
   "source": [
    "#7. Write a program which takes 5 inputs from user for different subject’s marks, total it and generate mark sheet using grades ?\n",
    "a=int(input(\"Enter marks of subject 1: \"))\n",
    "b=int(input(\"Enter marks of subject 2: \"))\n",
    "c=int(input(\"Enter marks of subject 3: \"))\n",
    "d=int(input(\"Enter marks of subject 4: \"))\n",
    "e=int(input(\"Enter marks of subject 5: \"))\n",
    "percentage=((a+b+c+d+e)/500)*100\n",
    "f=percentage\n",
    "if f>100 or f<0 :  \n",
    "    print(\"You have entered a invalid perentage\")\n",
    "if f<100 and f>=80 :\n",
    "    print(\"Your Grade is A+ with \",f,\"%\") \n",
    "if f<80 and f>=70 :  \n",
    "    print(\"Your Grade is A with \",f,\"%\")\n",
    "if f<70 and f>=60 :  \n",
    "    print(\"Your Grade is B with \",f,\"%\")      \n",
    "if f<60 and f>=50 :  \n",
    "    print(\"Your Grade is C with \",f,\"%\")     \n",
    "if f<50 and f>=40 :  \n",
    "    print(\"Your Grade is D with \",f,\"%\")  \n",
    "if f<40 and f>=33 :  \n",
    "    print(\"Your Grade is E with \",f,\"%\")  \n",
    "if f<33 and f>=0 :  \n",
    "    print(\"Your Grade is F with \",f,\"%\")"
   ]
  },
  {
   "cell_type": "code",
   "execution_count": null,
   "id": "ba9b4118",
   "metadata": {},
   "outputs": [],
   "source": []
  }
 ],
 "metadata": {
  "kernelspec": {
   "display_name": "Python 3",
   "language": "python",
   "name": "python3"
  },
  "language_info": {
   "codemirror_mode": {
    "name": "ipython",
    "version": 3
   },
   "file_extension": ".py",
   "mimetype": "text/x-python",
   "name": "python",
   "nbconvert_exporter": "python",
   "pygments_lexer": "ipython3",
   "version": "3.6.13"
  }
 },
 "nbformat": 4,
 "nbformat_minor": 5
}
