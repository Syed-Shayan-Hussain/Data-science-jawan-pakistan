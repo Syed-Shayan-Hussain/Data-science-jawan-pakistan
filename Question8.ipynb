{
 "cells": [
  {
   "cell_type": "code",
   "execution_count": null,
   "id": "2fee798f",
   "metadata": {},
   "outputs": [
    {
     "name": "stdout",
     "output_type": "stream",
     "text": [
      "Enter any number: 2\n",
      "The number is even\n",
      "Enter any number: 3\n",
      "The number is odd\n",
      "Enter any number: 5\n",
      "The number is odd\n",
      "Enter any number: 6\n",
      "The number is even\n"
     ]
    }
   ],
   "source": [
    "#8. Write a program which take input from user and identify that the given number is even or odd?\n",
    "while True:\n",
    " a=int(input(\"Enter any number: \"))\n",
    " n=a%2\n",
    " if n==0:\n",
    "   print(\"The number is even\")\n",
    " if n!=0:\n",
    "   print(\"The number is odd\")"
   ]
  },
  {
   "cell_type": "code",
   "execution_count": null,
   "id": "57570720",
   "metadata": {},
   "outputs": [],
   "source": []
  }
 ],
 "metadata": {
  "kernelspec": {
   "display_name": "Python 3",
   "language": "python",
   "name": "python3"
  },
  "language_info": {
   "codemirror_mode": {
    "name": "ipython",
    "version": 3
   },
   "file_extension": ".py",
   "mimetype": "text/x-python",
   "name": "python",
   "nbconvert_exporter": "python",
   "pygments_lexer": "ipython3",
   "version": "3.6.13"
  }
 },
 "nbformat": 4,
 "nbformat_minor": 5
}
